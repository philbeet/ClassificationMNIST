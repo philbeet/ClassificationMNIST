{
 "cells": [
  {
   "cell_type": "markdown",
   "metadata": {},
   "source": [
    "In this interactive notebook, we will go through examples of different types of classification models, all using the MNIST dataset."
   ]
  },
  {
   "cell_type": "markdown",
   "metadata": {},
   "source": [
    "<h1>Binary Classification</h1>\n",
    "\n",
    "Part 1 of our exploration-by-project into classification is the easiest. Think of Jian Yangs Hotdog/Not Hotdog!"
   ]
  },
  {
   "cell_type": "code",
   "execution_count": 2,
   "metadata": {},
   "outputs": [],
   "source": [
    "from sklearn.datasets import fetch_openml\n",
    "import warnings\n",
    "warnings.filterwarnings('ignore')\n",
    "\n",
    "mnist = fetch_openml('mnist_784', as_frame=False)\n"
   ]
  },
  {
   "cell_type": "markdown",
   "metadata": {},
   "source": [
    "fetch_openml() returns a sklearn.utils.Bunch object. This is a dictionary whose entries can also be accessed as attributes. It contains the following entries:\n",
    "\n",
    "* \"DESCR\" - a description of the data\n",
    "* \"data\" - the input data - a 2d numpy array (usually)\n",
    "* \"target\" - the labels, usually a 1d numpy array\n",
    "\n",
    "Usually fetch returns a pandas dataframe, but since our data is images pandas isnt ideal, so we set as frame to false."
   ]
  },
  {
   "cell_type": "code",
   "execution_count": 3,
   "metadata": {},
   "outputs": [],
   "source": [
    "X, y = mnist.data, mnist.target"
   ]
  },
  {
   "cell_type": "code",
   "execution_count": 4,
   "metadata": {},
   "outputs": [
    {
     "data": {
      "text/plain": [
       "((70000, 784), (70000,))"
      ]
     },
     "execution_count": 4,
     "metadata": {},
     "output_type": "execute_result"
    }
   ],
   "source": [
    "X.shape, y.shape"
   ]
  },
  {
   "cell_type": "markdown",
   "metadata": {},
   "source": [
    "70,000 images with 784 \"features (columns)\". This is because each image is 28*28 pixels (784) and each feature represents one pixel's intensity (from 0-255)"
   ]
  },
  {
   "cell_type": "code",
   "execution_count": 5,
   "metadata": {},
   "outputs": [
    {
     "data": {
      "image/png": "[encoded data removed]",
      "text/plain": [
       "<Figure size 640x480 with 1 Axes>"
      ]
     },
     "metadata": {},
     "output_type": "display_data"
    }
   ],
   "source": [
    "import matplotlib.pyplot as plt\n",
    "\n",
    "\n",
    "def plot_digit(image_data): #img data is a single row of our X array\n",
    "    image = image_data.reshape(28,28) # reshape the array from 1row-784 columns to 28 rows 28 columns - same as og image dimensions\n",
    "    plt.imshow(image, cmap='binary') #show the image and each pixel is either \"on\" or \"off\"\n",
    "    plt.axis('off') #turn off axes\n",
    "\n",
    "plot_digit(X[1])\n",
    "plt.show()"
   ]
  },
  {
   "cell_type": "markdown",
   "metadata": {},
   "source": [
    "<h1>The train test split</h1>\n",
    "We can very simply create a train test split for this project because the data is already shuffled for us. \n",
    "\n",
    "Many ML algos are sensitive to the order of the training instances - if they get too many similar instances in a row, they will perform like ass. Shuffling data will help alleviate this.\n",
    "\n",
    "Shuffling is a bad idea for time-series data."
   ]
  },
  {
   "cell_type": "code",
   "execution_count": 6,
   "metadata": {},
   "outputs": [],
   "source": [
    "from sklearn.model_selection import train_test_split\n",
    "\n",
    "X_train, X_test, y_train, y_test = train_test_split(\n",
    "    X, y, test_size=0.33, random_state=42\n",
    ")\n",
    "\n"
   ]
  },
  {
   "cell_type": "markdown",
   "metadata": {},
   "source": [
    "Our binary classifier will solve  a simple problem : is a digit a 5?\n",
    "\n",
    "Step 1: Let's create the target vectors."
   ]
  },
  {
   "cell_type": "code",
   "execution_count": 7,
   "metadata": {},
   "outputs": [],
   "source": [
    "y_train_5 = y_train=='5' #this is a vector that is false for every outcome except 5!\n",
    "y_test_5 = y_test == '5'\n",
    "\n"
   ]
  },
  {
   "cell_type": "markdown",
   "metadata": {},
   "source": [
    "<h1>The Problems With Accuracy Scoring</h1>\n",
    "\n",
    "To illustrate how accuracy scoring is not always the best, lets try training a classifier. For our example, we'll use an SGD (Stochastic gradient descent) classifier.\n",
    "\n"
   ]
  },
  {
   "cell_type": "code",
   "execution_count": 8,
   "metadata": {},
   "outputs": [
    {
     "data": {
      "text/html": [
       "<style>#sk-container-id-1 {color: black;}#sk-container-id-1 pre{padding: 0;}#sk-container-id-1 div.sk-toggleable {background-color: white;}#sk-container-id-1 label.sk-toggleable__label {cursor: pointer;display: block;width: 100%;margin-bottom: 0;padding: 0.3em;box-sizing: border-box;text-align: center;}#sk-container-id-1 label.sk-toggleable__label-arrow:before {content: \"▸\";float: left;margin-right: 0.25em;color: #696969;}#sk-container-id-1 label.sk-toggleable__label-arrow:hover:before {color: black;}#sk-container-id-1 div.sk-estimator:hover label.sk-toggleable__label-arrow:before {color: black;}#sk-container-id-1 div.sk-toggleable__content {max-height: 0;max-width: 0;overflow: hidden;text-align: left;background-color: #f0f8ff;}#sk-container-id-1 div.sk-toggleable__content pre {margin: 0.2em;color: black;border-radius: 0.25em;background-color: #f0f8ff;}#sk-container-id-1 input.sk-toggleable__control:checked~div.sk-toggleable__content {max-height: 200px;max-width: 100%;overflow: auto;}#sk-container-id-1 input.sk-toggleable__control:checked~label.sk-toggleable__label-arrow:before {content: \"▾\";}#sk-container-id-1 div.sk-estimator input.sk-toggleable__control:checked~label.sk-toggleable__label {background-color: #d4ebff;}#sk-container-id-1 div.sk-label input.sk-toggleable__control:checked~label.sk-toggleable__label {background-color: #d4ebff;}#sk-container-id-1 input.sk-hidden--visually {border: 0;clip: rect(1px 1px 1px 1px);clip: rect(1px, 1px, 1px, 1px);height: 1px;margin: -1px;overflow: hidden;padding: 0;position: absolute;width: 1px;}#sk-container-id-1 div.sk-estimator {font-family: monospace;background-color: #f0f8ff;border: 1px dotted black;border-radius: 0.25em;box-sizing: border-box;margin-bottom: 0.5em;}#sk-container-id-1 div.sk-estimator:hover {background-color: #d4ebff;}#sk-container-id-1 div.sk-parallel-item::after {content: \"\";width: 100%;border-bottom: 1px solid gray;flex-grow: 1;}#sk-container-id-1 div.sk-label:hover label.sk-toggleable__label {background-color: #d4ebff;}#sk-container-id-1 div.sk-serial::before {content: \"\";position: absolute;border-left: 1px solid gray;box-sizing: border-box;top: 0;bottom: 0;left: 50%;z-index: 0;}#sk-container-id-1 div.sk-serial {display: flex;flex-direction: column;align-items: center;background-color: white;padding-right: 0.2em;padding-left: 0.2em;position: relative;}#sk-container-id-1 div.sk-item {position: relative;z-index: 1;}#sk-container-id-1 div.sk-parallel {display: flex;align-items: stretch;justify-content: center;background-color: white;position: relative;}#sk-container-id-1 div.sk-item::before, #sk-container-id-1 div.sk-parallel-item::before {content: \"\";position: absolute;border-left: 1px solid gray;box-sizing: border-box;top: 0;bottom: 0;left: 50%;z-index: -1;}#sk-container-id-1 div.sk-parallel-item {display: flex;flex-direction: column;z-index: 1;position: relative;background-color: white;}#sk-container-id-1 div.sk-parallel-item:first-child::after {align-self: flex-end;width: 50%;}#sk-container-id-1 div.sk-parallel-item:last-child::after {align-self: flex-start;width: 50%;}#sk-container-id-1 div.sk-parallel-item:only-child::after {width: 0;}#sk-container-id-1 div.sk-dashed-wrapped {border: 1px dashed gray;margin: 0 0.4em 0.5em 0.4em;box-sizing: border-box;padding-bottom: 0.4em;background-color: white;}#sk-container-id-1 div.sk-label label {font-family: monospace;font-weight: bold;display: inline-block;line-height: 1.2em;}#sk-container-id-1 div.sk-label-container {text-align: center;}#sk-container-id-1 div.sk-container {/* jupyter's `normalize.less` sets `[hidden] { display: none; }` but bootstrap.min.css set `[hidden] { display: none !important; }` so we also need the `!important` here to be able to override the default hidden behavior on the sphinx rendered scikit-learn.org. See: https://github.com/scikit-learn/scikit-learn/issues/21755 */display: inline-block !important;position: relative;}#sk-container-id-1 div.sk-text-repr-fallback {display: none;}</style><div id=\"sk-container-id-1\" class=\"sk-top-container\"><div class=\"sk-text-repr-fallback\"><pre>SGDClassifier(random_state=42)</pre><b>In a Jupyter environment, please rerun this cell to show the HTML representation or trust the notebook. <br />On GitHub, the HTML representation is unable to render, please try loading this page with nbviewer.org.</b></div><div class=\"sk-container\" hidden><div class=\"sk-item\"><div class=\"sk-estimator sk-toggleable\"><input class=\"sk-toggleable__control sk-hidden--visually\" id=\"sk-estimator-id-1\" type=\"checkbox\" checked><label for=\"sk-estimator-id-1\" class=\"sk-toggleable__label sk-toggleable__label-arrow\">SGDClassifier</label><div class=\"sk-toggleable__content\"><pre>SGDClassifier(random_state=42)</pre></div></div></div></div></div>"
      ],
      "text/plain": [
       "SGDClassifier(random_state=42)"
      ]
     },
     "execution_count": 8,
     "metadata": {},
     "output_type": "execute_result"
    }
   ],
   "source": [
    "from sklearn.linear_model import SGDClassifier\n",
    "\n",
    "sgd_clf = SGDClassifier(random_state=42)\n",
    "\n",
    "sgd_clf.fit(X_train, y_train_5)\n",
    "\n"
   ]
  },
  {
   "cell_type": "markdown",
   "metadata": {},
   "source": [
    "To use this classifier, we can pass in:\n",
    "\n",
    "`sgd_clf.predict([some_digit])` -> digit must be an array-like object, so you can't just pass (somedigit), it has to be ([some_digit])\n",
    "\n",
    "Let's measure our performance."
   ]
  },
  {
   "cell_type": "code",
   "execution_count": 9,
   "metadata": {},
   "outputs": [
    {
     "data": {
      "text/plain": [
       "array([0.96392478, 0.95842129, 0.96117188])"
      ]
     },
     "execution_count": 9,
     "metadata": {},
     "output_type": "execute_result"
    }
   ],
   "source": [
    "from sklearn.model_selection import cross_val_score\n",
    "\n",
    "cross_val_score(sgd_clf, X_train, y_train_5,\n",
    "                cv=3, scoring='accuracy')\n"
   ]
  },
  {
   "cell_type": "markdown",
   "metadata": {},
   "source": [
    "WOOP WOOP! You got >95% accuracy on all cross val folds! Wtf??! FIRST TRY!\n",
    "\n",
    "Hold your horses. Now, lets take a look at a dummy classifier that just classifies every image as the most frequent class\n",
    "* in our case, the most frequent class is \"false\", because we are a binary classifier, and only 10% of outcomes are actually 5's (true).\n"
   ]
  },
  {
   "cell_type": "code",
   "execution_count": 10,
   "metadata": {},
   "outputs": [
    {
     "data": {
      "text/plain": [
       "array([0.91032365, 0.91031792, 0.91031792])"
      ]
     },
     "execution_count": 10,
     "metadata": {},
     "output_type": "execute_result"
    }
   ],
   "source": [
    "from sklearn.dummy import DummyClassifier\n",
    "\n",
    "dummy_clf = DummyClassifier()\n",
    "dummy_clf.fit(X_train, y_train_5)\n",
    "\n",
    "cross_val_score(dummy_clf, X_train, y_train_5, cv=3, scoring='accuracy')"
   ]
  },
  {
   "cell_type": "markdown",
   "metadata": {},
   "source": [
    "BRUH MOMENT. Just classifing every single image as \"not 5\" gives us 91% accuracy. Again, this is because roughly 10% of the data is 5's, so 90% is not 5.\n",
    "\n",
    "This demonstrates the DANGER of using accuracy-based metrics on skewed datasets (when some classes are more frequent than others). \n",
    "\n",
    "A much better way is to evaluate the performance of a classifier with a confusion matrix.\n",
    "\n",
    "<h1>Confusion Matrices</h1>\n",
    "A confusion matrix counts the number of times class A is classified as class B, for all possible pairs.\n",
    "\n",
    "For example, it will tell us the number of times the classifier confused an 8 with a 0 --> just look at row #8 column #0.\n",
    "\n",
    "to do this, we make predictions and compare them to the actual targets. We don't want to use the test set (only use test set at the end of the project!), we can use SKLearn's **crossvalpredict** function.\n"
   ]
  },
  {
   "cell_type": "code",
   "execution_count": 11,
   "metadata": {},
   "outputs": [],
   "source": [
    "from sklearn.model_selection import cross_val_predict\n",
    "\n",
    "y_train_pred = cross_val_predict(sgd_clf, X_train, y_train_5, cv=3)"
   ]
  },
  {
   "cell_type": "markdown",
   "metadata": {},
   "source": [
    "Cross val predict performs K-fold cross validation, but instead of returning evaluation scores (like cross val scores), it returns the predictions made by the model on each fold.\n",
    "\n",
    "It returns all of these folds results as a single array. \n",
    "\n",
    "Lets get a confusion matrix. we can import it directly from sklearn:"
   ]
  },
  {
   "cell_type": "code",
   "execution_count": 12,
   "metadata": {},
   "outputs": [
    {
     "data": {
      "text/plain": [
       "array([[41582,  1112],\n",
       "       [  709,  3497]], dtype=int64)"
      ]
     },
     "execution_count": 12,
     "metadata": {},
     "output_type": "execute_result"
    }
   ],
   "source": [
    "from sklearn.metrics import confusion_matrix\n",
    "\n",
    "cm= confusion_matrix(y_train_5, y_train_pred)\n",
    "cm"
   ]
  },
  {
   "cell_type": "markdown",
   "metadata": {},
   "source": [
    "* Each row represents a class. In our case, we have **non-5** and **5s**.\n",
    "\n",
    "* Each column represents an outcome.\n",
    "\n",
    "For example, the first row represents all non-5s. The first column says that 41,582 were correctly classified as non-5. The second column says 1112 were wrongly classified as 5 (false positive, type I error).\n",
    "\n",
    "The second row is all 5s. 709 were wrongly classified as non-5 (false negative, type II error), and 3497 were classified as 5 (true positive).\n",
    "\n",
    "<table>\n",
    "        <tr>\n",
    "                <th></th>\n",
    "                <th>Non-5 Prediction</th>\n",
    "                <th>5 Prediction</th>\n",
    "        </tr>\n",
    "        <tr>\n",
    "                <th>Non-5 True Value</th>\n",
    "                <th>41582</th>\n",
    "                <th>1112</th>\n",
    "        </tr>\n",
    "        <tr>\n",
    "                <th>5 true value</th>\n",
    "                <th>709</th>\n",
    "                <th>3497</th>\n",
    "        </tr>\n",
    "</table>\n"
   ]
  },
  {
   "cell_type": "markdown",
   "metadata": {},
   "source": [
    "<h3>Model Measuring Metrics</h3>\n",
    "\n",
    "**Precision: Measuring the accuracy of positive predictions**\n",
    "$$P = {TruePositives \\over TruePositives + FalsePositives}$$\n",
    "\n",
    " "
   ]
  },
  {
   "cell_type": "markdown",
   "metadata": {},
   "source": [
    "Precision is usually used along with another metric called Recall. This is because precision itself is somewhat easy to pad. For example:\n",
    "\n",
    "`Imagine a model that always makes negative predictions, except for one where it is absolutely 100% positive about. This model would have 0 false positives and 1 true positive, a perfect precision socre of 1/1. However, this model is not very useful in the real world`\n",
    "\n",
    "**Recall - The True Positive Rate TPR**\n",
    "$$R = {TruePositives\\over TruePositives + FalseNegatives}$$\n",
    "\n",
    "Looking back at our table...\n",
    "<table>\n",
    "        <tr>\n",
    "                <th></th>\n",
    "                <th>Non-5 Prediction</th>\n",
    "                <th>5 Prediction</th>\n",
    "        </tr>\n",
    "        <tr>\n",
    "                <th>Non-5 True Value</th>\n",
    "                <th>41582 TRUE NEGATIVES</th>\n",
    "                <th>1112 FALSE POSITIVES</th>\n",
    "        </tr>\n",
    "        <tr>\n",
    "                <th>5 true value</th>\n",
    "                <th>709 FALSE NEGATIVES</th>\n",
    "                <th>3497 TRUE POSITIVES</th>\n",
    "        </tr>\n",
    "</table>"
   ]
  },
  {
   "cell_type": "markdown",
   "metadata": {},
   "source": [
    "<h4>Whats important? Precision vs Recall</h4>\n",
    "\n",
    "It really depends on your situation. Say you trained a classifier to detect videos safe for kids. Would you:\n",
    "1. Want a classifier that classifies many safe videos as unsafe, but keeps only the safest videos? (HIGH PRECISION, not alot of false positives.)\n",
    "OR\n",
    "2. Want a classifier that classifies many unsafe videos as safe (HIGH RECALL, not alot of false negatives.)\n",
    "\n",
    "Obviously most people would want model number 1.\n",
    "\n",
    "What about another situation: Stopping shoplifters. Would you:\n",
    "1. Want a model that only catches people it is 100% sure are shoplifting? (HIGH PRECISION, low false positives)\n",
    "OR\n",
    "2. Want a model that assumes more people are shoplifting, even though they might be innocent (HIGH RECALL, low false negatives)\n",
    "\n",
    "Most store owners would probably want a model more like number 2.\n",
    "\n",
    "<h3>The F1 Score</h3>\n",
    "\n",
    "The F1 Score is the *harmonic mean* of precision and recall -> it combines them into a single metric. \n",
    "$$F_1 = {TruePositives \\over TruePositives + {FalseNeg + FalsePos \\over 2}}$$"
   ]
  },
  {
   "cell_type": "markdown",
   "metadata": {},
   "source": [
    "The F1 Score is high only if **both precision and recall are high**. Sometimes this is what you want, other times, as discussed above, you want to favor one over the other. It is up to your intuition."
   ]
  },
  {
   "cell_type": "markdown",
   "metadata": {},
   "source": [
    "<h3>Using SKLearn to calculate these metrics</h3>\n",
    "\n",
    "SKLearn has many prebuilt functions that allow us to calculate F1, Precision, and Recall very quickly. Lets go over them below:"
   ]
  },
  {
   "cell_type": "code",
   "execution_count": 13,
   "metadata": {},
   "outputs": [
    {
     "data": {
      "text/plain": [
       "(0.7587329138641787, 0.8314312886352829)"
      ]
     },
     "execution_count": 13,
     "metadata": {},
     "output_type": "execute_result"
    }
   ],
   "source": [
    "#precision and recall\n",
    "from sklearn.metrics import precision_score, recall_score\n",
    "\n",
    "prec = precision_score(y_train_5, y_train_pred)\n",
    "rec = recall_score(y_train_5, y_train_pred)\n",
    "\n",
    "prec, rec"
   ]
  },
  {
   "cell_type": "markdown",
   "metadata": {},
   "source": [
    "This means our model is correct about 75% of the time (prec = truepos/(truepos + falsepos))\n",
    "\n",
    "It also means that our model is correctly predicting about 83% of all 5s (recall = truepos/(truepos+falseneg))\n",
    "\n",
    "Now lets do F1 score:"
   ]
  },
  {
   "cell_type": "code",
   "execution_count": 14,
   "metadata": {},
   "outputs": [
    {
     "data": {
      "text/plain": [
       "0.7934203062960862"
      ]
     },
     "execution_count": 14,
     "metadata": {},
     "output_type": "execute_result"
    }
   ],
   "source": [
    "from sklearn.metrics import f1_score\n",
    "f1 = f1_score(y_train_5, y_train_pred)\n",
    "\n",
    "f1"
   ]
  },
  {
   "cell_type": "markdown",
   "metadata": {},
   "source": [
    "Honestly, it might not be the best, but our model isn't too shabby.\n",
    "\n",
    "<h2>The Precision/Recall TradeOff</h2>\n",
    "We know from our examples earlier (kid friendly videos + shoplifting) that you can't really have it both ways. \n",
    "\n",
    "Increasing precision reduces recall, and increating recall reduces precision.\n",
    "\n",
    "To understand this tradeoff, we will take a look at *how* SGDClassifier makes its decisions.\n",
    "* For each instance, SGD computes a score based on a **decision function**\n",
    "    * If the score is greater than a threshold, it assigns the instance to the positive class, otherwise the negative class.\n",
    "\n",
    "In the figure below, assume that the decision threshold is at one of the arrows. We will calculate precision and recall for each of the decision thresholds. Notice how precision and recall are negatively correllated. \n",
    "\n",
    "<img src=\"./img/Decision Threshold.png\">"
   ]
  },
  {
   "cell_type": "markdown",
   "metadata": {},
   "source": [
    "Desafortunadamente, SKLearn does not let you set the threshold directly. However, it does give you access to view the decision scores it makes.\n",
    "\n",
    "To do this, instead of calling `.predict()`, we can call `.decision_function()`. \n",
    "\n",
    "This will return a score for each instance instead of an actual prediction. We can then use this to test any threshold we want.\n",
    "\n",
    "Onw thing to note is that SGDClassifier itself uses a threshold of 0. So setting threshold equal to zero is the same as just running the classifier."
   ]
  },
  {
   "cell_type": "code",
   "execution_count": 15,
   "metadata": {},
   "outputs": [
    {
     "data": {
      "text/plain": [
       "array([ True, False, False, ..., False, False, False])"
      ]
     },
     "execution_count": 15,
     "metadata": {},
     "output_type": "execute_result"
    }
   ],
   "source": [
    "y_scores = sgd_clf.decision_function(X_train)\n",
    "threshold = -200\n",
    "custom_thresh_pred = y_scores > threshold\n",
    "custom_thresh_pred"
   ]
  },
  {
   "cell_type": "markdown",
   "metadata": {},
   "source": [
    "<h3>Deciding which threshold to use</h3>\n",
    "Again, this mostly depends on what you find important (precision vs recall).\n",
    "\n",
    "The first thing we should do is use *cross_val_predict()* and set the argument *method='decision_function'*. This will return an array of all the scores for the entire dataset -- we need this so we can graph them\n",
    "\n",
    "Now, we'll use these scores and call the **precision_recall_curve()** function. \n",
    "\n",
    "**THIS FUNCTION COMPUTES PRECISION AND RECALL FOR ALL POSSIBLE THRESHOLDS (domain is as large as needed to produce 0 and 1 for both prec. and rec.)**\n",
    "\n",
    "\n"
   ]
  },
  {
   "cell_type": "code",
   "execution_count": 16,
   "metadata": {},
   "outputs": [],
   "source": [
    "from sklearn.metrics import precision_recall_curve\n",
    "\n",
    "y_scores_2 = cross_val_predict(sgd_clf, X_train, y_train_5, cv=3,\n",
    "                               method='decision_function')\n",
    "\n",
    "precisions, recalls, thresholds = precision_recall_curve(y_train_5, y_scores_2)\n",
    "\n"
   ]
  },
  {
   "cell_type": "code",
   "execution_count": 17,
   "metadata": {},
   "outputs": [
    {
     "data": {
      "image/png": "[encoded data removed]",
      "text/plain": [
       "<Figure size 640x480 with 1 Axes>"
      ]
     },
     "metadata": {},
     "output_type": "display_data"
    }
   ],
   "source": [
    "plt.plot(thresholds, precisions[:-1], \"b--\", label='Precision', linewidth=2)\n",
    "plt.plot(thresholds, recalls[:-1], 'g-', label='Recall')\n",
    "plt.vlines(threshold, 0, 1.0, \"k\", 'dotted', label='threshold') #this line charts our current selected threshold, which we set above as -200.\n",
    "\n",
    "idx = (thresholds >= threshold).argmax()  # first index ≥ threshold, this is for plotting the dots on the vertical line\n",
    "plt.plot(thresholds[idx], precisions[idx], \"bo\")\n",
    "plt.plot(thresholds[idx], recalls[idx], \"go\")\n",
    "plt.axis([-50000, 50000, 0, 1])\n",
    "plt.grid()\n",
    "plt.xlabel(\"Threshold\")\n",
    "plt.legend(loc=\"center right\")\n",
    "\n",
    "\n",
    "plt.show()"
   ]
  },
  {
   "cell_type": "markdown",
   "metadata": {},
   "source": [
    "This chart helps us visualize P and R at different thresholds, making it invaluable for choosing thresholds. \n",
    "\n",
    "We can also plot the precision/recall curve to visualize the relationship between the two.\n"
   ]
  },
  {
   "cell_type": "code",
   "execution_count": 18,
   "metadata": {},
   "outputs": [
    {
     "data": {
      "image/png": "[encoded data removed]",
      "text/plain": [
       "<Figure size 640x480 with 1 Axes>"
      ]
     },
     "metadata": {},
     "output_type": "display_data"
    }
   ],
   "source": [
    "\n",
    "plt.plot(recalls, precisions, linewidth=2, label=\"Precision/Recall curve\")\n",
    "plt.xlabel(\"recall\")\n",
    "plt.ylabel(\"precision\")\n",
    "plt.grid()\n",
    "plt.show()"
   ]
  },
  {
   "cell_type": "markdown",
   "metadata": {},
   "source": [
    "Both of these graphs are very helpful for visualizing the tradeoffs in precision vs recall, but make it a bit difficult to actually make exact quantifications of threshold. \n",
    "\n",
    "Lets say you want a model that gives at least 90% precision. Lets write some code to find the first possible threshold that gives at least 90% precision\n",
    "\n",
    "We will use numpy's ARGMAX method. This returns the first index of the maximum value (in a boolean case, 0 vs 1, this returns the first 1)\n"
   ]
  },
  {
   "cell_type": "code",
   "execution_count": 19,
   "metadata": {},
   "outputs": [
    {
     "data": {
      "text/plain": [
       "4760.366877584725"
      ]
     },
     "execution_count": 19,
     "metadata": {},
     "output_type": "execute_result"
    }
   ],
   "source": [
    "idx_for_90_precision = (precisions >= 0.9).argmax()\n",
    "idx_for_90_precision #this is the index of the first true value\n",
    "threshold_for_90_precision = thresholds[idx_for_90_precision]\n",
    "threshold_for_90_precision #this is the threshold value at the first true index"
   ]
  },
  {
   "cell_type": "markdown",
   "metadata": {},
   "source": [
    "Now we can simply make predictions using the output of our classifier's decision function.\n",
    "\n",
    "All we have to do is classify outputs based on the threshold returned above."
   ]
  },
  {
   "cell_type": "code",
   "execution_count": 20,
   "metadata": {},
   "outputs": [
    {
     "data": {
      "text/plain": [
       "array([False, False, False, ..., False, False, False])"
      ]
     },
     "execution_count": 20,
     "metadata": {},
     "output_type": "execute_result"
    }
   ],
   "source": [
    "y_train_pred_90 = y_scores_2 >= threshold_for_90_precision\n",
    "y_train_pred_90"
   ]
  },
  {
   "cell_type": "markdown",
   "metadata": {},
   "source": [
    "Ok, so thats our model's predictions at our custom threshold. It has 90% precision! Does this mean its a good model?\n",
    "\n",
    "Lets check... take a guess rn."
   ]
  },
  {
   "cell_type": "code",
   "execution_count": 21,
   "metadata": {},
   "outputs": [
    {
     "name": "stdout",
     "output_type": "stream",
     "text": [
      "0.9002260251856635 0.6628625772705659\n"
     ]
    },
    {
     "data": {
      "text/plain": [
       "0.7635218403395865"
      ]
     },
     "execution_count": 21,
     "metadata": {},
     "output_type": "execute_result"
    }
   ],
   "source": [
    "print(precision_score(y_train_5, y_train_pred_90), recall_score(y_train_5, y_train_pred_90))\n",
    "\n",
    "f1_score(y_train_5, y_train_pred_90)\n"
   ]
  },
  {
   "cell_type": "markdown",
   "metadata": {},
   "source": [
    "I mean its not horrible... but it kinda sucks. The model is a C-grade. \n",
    "\n",
    "Always remember, if *if someone says LETS GET 99% PRECISION, ask yourself, **at what recall!!***\n",
    "\n",
    "\n",
    "<h2>The ROC Curve</h2>\n",
    "\n",
    "The *receiver operating characteristic* curve is a common tool used with binary classifiers. It is very similar to precision/recall curve, except this one plots **true positive rate** against **false positive rate**.\n",
    "\n",
    "1. TPR is basically another name for recall\n",
    "2. FPR is also called the *fall-out rate*. It is the ratio of negative instances that are incorrectly labeled positive.\n",
    "    * The FPR is equal to 1 - True Negative Rate\n",
    "    * True Negative Rate, AKA Specificity, is the ratio of negatives that are correctly classified as negative.\n",
    "\n",
    "Bottom line of all this jargon: **ROC curve plots sensitivity (recall) against 1-specificity**\n",
    "\n",
    "All the data for the ROC curve can be created using SK-Learn's *roc_curve* function."
   ]
  },
  {
   "cell_type": "code",
   "execution_count": 22,
   "metadata": {},
   "outputs": [
    {
     "data": {
      "text/plain": [
       "(array([0.        , 0.        , 0.        , ..., 0.99789198, 0.99789198,\n",
       "        1.        ]),\n",
       " array([0.00000000e+00, 2.37755587e-04, 3.09082263e-03, ...,\n",
       "        9.99762244e-01, 1.00000000e+00, 1.00000000e+00]),\n",
       " array([             inf,   27782.05845864,   20145.84385291, ...,\n",
       "         -63156.94847462,  -63162.84990642, -100410.30599127]))"
      ]
     },
     "execution_count": 22,
     "metadata": {},
     "output_type": "execute_result"
    }
   ],
   "source": [
    "from sklearn.metrics import roc_curve\n",
    "\n",
    "fpr, tpr, thresholds = roc_curve(y_train_5, y_scores)\n",
    "\n"
   ]
  },
  {
   "cell_type": "code",
   "execution_count": 23,
   "metadata": {},
   "outputs": [
    {
     "data": {
      "text/plain": [
       "array([0.        , 0.        , 0.        , ..., 0.99789198, 0.99789198,\n",
       "       1.        ])"
      ]
     },
     "execution_count": 23,
     "metadata": {},
     "output_type": "execute_result"
    }
   ],
   "source": [
    "fpr"
   ]
  },
  {
   "cell_type": "markdown",
   "metadata": {},
   "source": [
    "You may be wondering (I was) why each variable ROC curve returns is an array.\n",
    "\n",
    "The answer is quite simple. It tests every possible threshold to gain a continuous distribution from 0 - 1 for both TPR and FPR. This is how the curve is constructed.\n",
    "\n",
    "Lets plot the thing."
   ]
  },
  {
   "cell_type": "code",
   "execution_count": 32,
   "metadata": {},
   "outputs": [
    {
     "data": {
      "image/png": "[encoded data removed]",
      "text/plain": [
       "<Figure size 640x480 with 1 Axes>"
      ]
     },
     "metadata": {},
     "output_type": "display_data"
    }
   ],
   "source": [
    "idx_thresh_90_prec = (thresholds <= threshold_for_90_precision).argmax()\n",
    "tpr_90, fpr_90 = tpr[idx_thresh_90_prec], fpr[idx_thresh_90_prec]\n",
    "\n",
    "plt.plot(fpr, tpr, linewidth=2, label='ROC Curve')\n",
    "plt.plot([0,1], [0,1], 'k', label='Random Classifier Curve')\n",
    "plt.plot([fpr_90], [tpr_90], 'ko', label='Threshold for 90% precision')\n",
    "plt.xlabel(\"False Positive Rate\")\n",
    "plt.ylabel(\"True Positive Rate (recall)\")\n",
    "plt.legend()\n",
    "plt.grid()\n",
    "plt.show()"
   ]
  },
  {
   "cell_type": "markdown",
   "metadata": {},
   "source": [
    "There is a trade off here:\n",
    "* Higher TPR (recall), the more false positives.\n",
    "\n",
    "the black line is a truly random classifier. Good classifiers stay as far away from that line as possible (as close to top left corner as possible)\n",
    "\n",
    "<h3>Comparing Binary Classifiers</h3>\n",
    "\n",
    "A common way to compare classifiers is to compare **AREA UNDER CURVE**. \n",
    "\n",
    "This is deadass what it sounds like. The area under the ROC Curve.\n",
    "\n",
    "Looking at our ROC curve, we can see that a truly random classifier should have an *area-under-curve* of about 0.5 (50% of the total area of the plot is under the 45-degree line). Therefore, the better our classifier is, the close the AUC is to 1.\n",
    "\n",
    "SKLearn provides a function to estimate AUC.\n"
   ]
  },
  {
   "cell_type": "code",
   "execution_count": 33,
   "metadata": {},
   "outputs": [
    {
     "data": {
      "text/plain": [
       "0.9766841536808814"
      ]
     },
     "execution_count": 33,
     "metadata": {},
     "output_type": "execute_result"
    }
   ],
   "source": [
    "from sklearn.metrics import roc_auc_score\n",
    "roc_auc_score(y_train_5, y_scores)"
   ]
  },
  {
   "cell_type": "markdown",
   "metadata": {},
   "source": [
    "<h2>ROC VS Precision/Recall Curve</h2>\n",
    "\n",
    "Rule of thumb - use PR Curve whenever the positive class is rare, or when you care more about false positives than false negatives. Otherwise, use the ROC curve.\n",
    "\n",
    "In our example above when we used the ROC curve, our AUC score was amazing, 97.6% area under curve! However, because there are so few positives (true 5s) in our data, the ROC curve will be artificially inflated. The PR curve in our case is a much more accurate indicator.\n",
    "\n",
    "Area Under Curve measurements will always be better at higher values, regardless of which curve you're using.\n",
    "\n",
    "\n",
    "Lets try a different classifier and compare it's PR curve to our current SGD classifier.\n"
   ]
  },
  {
   "cell_type": "code",
   "execution_count": 35,
   "metadata": {},
   "outputs": [],
   "source": [
    "from sklearn.ensemble import RandomForestClassifier\n",
    "\n",
    "forest_clf = RandomForestClassifier(random_state=42)\n"
   ]
  },
  {
   "cell_type": "markdown",
   "metadata": {},
   "source": [
    "The precision_recall_curve() function expects both **labels** and **scores** for each instance. This means we need to train the random forest and make it assign a score to each instance. \n",
    "\n",
    "...But random forest does not have a decision_function() method!\n",
    "\n",
    "Luckily, random_forest has a predict_proba() method that returns probabilities for each instance (negative vs positive in our case, or n-dimensional cases)\n",
    "\n",
    "We'll use cross_val_predict to predict class probabilities for each image."
   ]
  },
  {
   "cell_type": "code",
   "execution_count": 36,
   "metadata": {},
   "outputs": [
    {
     "data": {
      "text/plain": [
       "array([[0.93, 0.07],\n",
       "       [1.  , 0.  ]])"
      ]
     },
     "execution_count": 36,
     "metadata": {},
     "output_type": "execute_result"
    }
   ],
   "source": [
    "y_probas = cross_val_predict(forest_clf, X_train, y_train_5, cv=3, method='predict_proba')\n",
    "\n",
    "y_probas[:2]"
   ]
  },
  {
   "cell_type": "markdown",
   "metadata": {},
   "source": [
    "In the case above, we see that the first two images are both negatives (they are likely NOT 5's!)\n",
    "\n",
    "The first image, the classifier is 93% sure its not a 5, and the second, its 100% sure.\n",
    "\n",
    "`NOTE! These are estimated probabilities, not actual probabilities. This means if you look at all the images that the model assigned a positive estimated probability of 50%, rougly 94% would actually be positive. In this case, the model's estimations are too low (it is underconfident). It is also possible for models to be overconfident, where if you looked at positives that had 50% probability, only 20% were actually positives. That is an example of overconfidence. SK-Learn provides tools in the sklearn.calibration package to help tune the model.`\n",
    "\n"
   ]
  },
  {
   "cell_type": "markdown",
   "metadata": {},
   "source": [
    "The second column is the model's positive class probability. Lets pass this to the precision_recall_curve."
   ]
  },
  {
   "cell_type": "code",
   "execution_count": 41,
   "metadata": {},
   "outputs": [],
   "source": [
    "y_scores_forest = y_probas[:, 1] #this extracts only the second column (positives) from the whole array of probas.\n",
    "\n",
    "precisions_from_forest, recalls_from_forest, thresholds_from_forest = precision_recall_curve(y_train_5, y_scores_forest)\n"
   ]
  },
  {
   "cell_type": "code",
   "execution_count": 43,
   "metadata": {},
   "outputs": [
    {
     "data": {
      "image/png": "[encoded data removed]",
      "text/plain": [
       "<Figure size 640x480 with 1 Axes>"
      ]
     },
     "metadata": {},
     "output_type": "display_data"
    }
   ],
   "source": [
    "plt.plot(precisions_from_forest, recalls_from_forest, 'b-',\n",
    "         linewidth=2, label='Random Forest')\n",
    "plt.plot(recalls, precisions, '--', linewidth=2, label='SGD')\n",
    "plt.legend()\n",
    "plt.grid()\n",
    "plt.show()"
   ]
  }
 ],
 "metadata": {
  "kernelspec": {
   "display_name": ".venv",
   "language": "python",
   "name": "python3"
  },
  "language_info": {
   "codemirror_mode": {
    "name": "ipython",
    "version": 3
   },
   "file_extension": ".py",
   "mimetype": "text/x-python",
   "name": "python",
   "nbconvert_exporter": "python",
   "pygments_lexer": "ipython3",
   "version": "3.11.3"
  }
 },
 "nbformat": 4,
 "nbformat_minor": 2
}
